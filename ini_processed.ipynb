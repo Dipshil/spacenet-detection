{
 "cells": [
  {
   "cell_type": "code",
   "execution_count": 1,
   "metadata": {
    "collapsed": true
   },
   "outputs": [],
   "source": [
    "import torch\n",
    "import torch.nn as nn\n",
    "import torch.autograd\n",
    "from torch.autograd import Variable\n",
    "import numpy as np\n",
    "from PIL import Image\n",
    "import matplotlib.pyplot as plt\n",
    "import torchvision.transforms as transforms\n",
    "import torch.nn.functional as F\n",
    "import torch.utils.data as data"
   ]
  },
  {
   "cell_type": "code",
   "execution_count": null,
   "metadata": {},
   "outputs": [
    {
     "name": "stdout",
     "output_type": "stream",
     "text": [
      "Iteration number 100\n",
      "Iteration number 200\n",
      "Iteration number 300\n",
      "Iteration number 400\n",
      "Iteration number 500\n",
      "Iteration number 600\n",
      "Iteration number 700\n",
      "Iteration number 800\n",
      "Iteration number 900\n"
     ]
    }
   ],
   "source": [
    "def class_matrix_generator(annotationsFile, trainBool):\n",
    "    with open(annotationsFile,'r') as files:\n",
    "        class_mat = []\n",
    "        counter = 0\n",
    "        for line in files:\n",
    "            counter += 1\n",
    "            if(counter%100 ==0):\n",
    "                print(\"Iteration number %d\" %counter)\n",
    "            #print(line)\n",
    "            imp,_ = line.split('\\n')\n",
    "            ip,out = imp.split(' ')\n",
    "            out = out[:-4]+'segcls.png'\n",
    "            pil_image = np.asarray(Image.open(out))\n",
    "            #print(pil_image.shape[0])\n",
    "            #image_ar = np.zeros([pil_image.shape[0],pil_image.shape[1],1])\n",
    "            image_ar = np.where(pil_image != 0, 1, 0)\n",
    "            '''for i in range(pil_image.shape[0]):\n",
    "                for j in range(pil_image.shape[1]):\n",
    "                    if(np.sum(np.asarray(pil_image)[i][j])!= 0):\n",
    "                        image_ar[i][j][0]=1'''\n",
    "            #pil_image = torch.Tensor(pil_image).clamp_(0,1)\n",
    "            class_mat.append(image_ar)\n",
    "        if(trainBool):\n",
    "            np.save('dumps/class_mat_train.npy', np.array(class_mat))\n",
    "        elif(not trainBool):\n",
    "            np.save('dumps/class_mat_test.npy',np.array(class_mat))\n",
    "        else:\n",
    "            print(\"Invalid type\")\n",
    "        print(\"Done\")\n",
    "\n",
    "#class_matrix_generator('/home/shriragk/project/AOI_3_Paris_Train/annotations/trainval.txt', True)\n",
    "#class_matrix_generator('/home/shriragk/project/AOI_3_Paris_Train/annotations/test.txt', False)\n",
    "\n",
    "    \n"
   ]
  },
  {
   "cell_type": "code",
   "execution_count": null,
   "metadata": {},
   "outputs": [],
   "source": []
  },
  {
   "cell_type": "code",
   "execution_count": 2,
   "metadata": {},
   "outputs": [
    {
     "name": "stdout",
     "output_type": "stream",
     "text": [
      "torch.Size([3, 650, 650])\n",
      "torch.Size([1, 650, 650])\n"
     ]
    }
   ],
   "source": [
    "#### cvt2tensor = transforms.ToTensor()\n",
    "cvt2pil = transforms.ToPILImage()\n",
    "\n",
    "class Spacenet_Dataset(data.Dataset):\n",
    "    def __init__(self, annotationsFile,train = True, transform=None, target_transform = None):\n",
    "        files = open(annotationsFile,'r')\n",
    "        self.transform=transform\n",
    "        self.target_transform=target_transform\n",
    "        items=[]\n",
    "        #print(lines[0].split('\\n'))\n",
    "        for line in files:\n",
    "            #print(line)\n",
    "            imp,_ = line.split('\\n')\n",
    "            ip,out = imp.split(' ')\n",
    "            out = out[:-4]+'segcls.png'\n",
    "            \n",
    "            item = [ip,out]\n",
    "            items.append(item)\n",
    "        self.data = items\n",
    "        self.inp_img_paths=[]\n",
    "        self.out_img_paths=[]\n",
    "        for dat in self.data:\n",
    "            self.inp_img_paths.append(dat[0])\n",
    "            self.out_img_paths.append(dat[1])\n",
    "        #print(len(inp_img_paths))\n",
    "              \n",
    "    def getImage(self,path):\n",
    "        pil_image = Image.open(path)\n",
    "        pil_image = pil_image.convert('RGB')\n",
    "        return pil_image\n",
    "\n",
    "    def getImage_out(self,path):\n",
    "        pil_image = Image.open(path)\n",
    "        pil_image = pil_image.convert('L')\n",
    "        image_ar = np.where(np.asarray(pil_image) != 0, 1, 0)\n",
    "        return image_ar\n",
    "    \n",
    "    def __getitem__(self, index):\n",
    "        cur_in_path = self.inp_img_paths[index]\n",
    "        cur_out_path = self.out_img_paths[index]\n",
    "        in_image = self.getImage(cur_in_path)\n",
    "        out_image = self.getImage_out(cur_out_path)\n",
    "        \n",
    "        if self.transform is not None:\n",
    "            in_image = self.transform(in_image)\n",
    "            out_image = self.transform(out_image.reshape(650,650,1))\n",
    "        return in_image, out_image\n",
    "    \n",
    "    def __len__(self):\n",
    "        return len(self.inp_img_paths)\n",
    "\n",
    "imgTransform = transforms.Compose([transforms.ToTensor()])\n",
    "\n",
    "trainData = Spacenet_Dataset(\"/home/shriragk/project/AOI_3_Paris_Train/annotations/trainval.txt\",transform=imgTransform)\n",
    "valData = Spacenet_Dataset(\"/home/shriragk/project/AOI_3_Paris_Train/annotations/test.txt\",transform=imgTransform)\n",
    "inp,out = trainData[0]\n",
    "print(inp.size())\n",
    "print(out.shape)"
   ]
  },
  {
   "cell_type": "code",
   "execution_count": 3,
   "metadata": {
    "collapsed": true
   },
   "outputs": [],
   "source": [
    "class MyNet(nn.Module):\n",
    "    def __init__(self):\n",
    "        super(MyNet, self).__init__()\n",
    "        # Convolutional layers.\n",
    "        self.conv1 = nn.Conv2d(3, 8, 8)\n",
    "        self.conv2 = nn.Conv2d(8, 16, 6)\n",
    "        self.conv3 = nn.Conv2d(16, 32, 7)\n",
    "        self.conv4 = nn.Conv2d(32, 64, 3)\n",
    "        \n",
    "        self.deconv1 = nn.ConvTranspose2d(64,32,3)\n",
    "        self.deconv2 = nn.ConvTranspose2d(32,16,7)\n",
    "        self.deconv3 = nn.ConvTranspose2d(16,8,6)\n",
    "        self.deconv4 = nn.ConvTranspose2d(8,1,8)\n",
    "        \n",
    "        self.Norm_1 = nn.BatchNorm2d(8)\n",
    "        self.Norm_2 = nn.BatchNorm2d(16)\n",
    "        self.Norm_3 = nn.BatchNorm2d(32) \n",
    "        self.Norm_4 = nn.BatchNorm2d(64)\n",
    "        self.Norm_5 = nn.BatchNorm2d(32)\n",
    "        self.Norm_6 = nn.BatchNorm2d(16)\n",
    "        self.Norm_7 = nn.BatchNorm2d(8)\n",
    "        self.Norm_8 = nn.BatchNorm2d(1)\n",
    "        \n",
    "        self.pool2 = nn.MaxPool2d(2,return_indices=True)\n",
    "        self.pool3 = nn.MaxPool2d(3,return_indices=True)\n",
    "        \n",
    "    def forward(self, x):\n",
    "        \n",
    "        outc1 = F.relu(self.conv1(x))\n",
    "        outc1 = self.Norm_1(outc1)\n",
    "        #outc1,c1_in = self.pool2(outc1)\n",
    "        #print(outc1.size())\n",
    "        \n",
    "        outc2 = F.relu(self.conv2(outc1))\n",
    "        outc2 = self.Norm_2(outc2)\n",
    "        #outc2,c2_in = self.pool2(outc2)\n",
    "        #print(outc2.size())\n",
    "        \n",
    "        outc3 = F.relu(self.conv3(outc2))\n",
    "        outc3 = self.Norm_3(outc3)\n",
    "        #outc3,c3_in = self.pool2(outc3)\n",
    "        #print(outc3.size())\n",
    "        \n",
    "        outc4 = F.relu(self.conv4(outc3))\n",
    "        outc4 = self.Norm_4(outc4)\n",
    "        #print(outc4.size())\n",
    "        \n",
    "        outd1 = F.relu(self.deconv1(outc4))\n",
    "        outd1 = self.Norm_5(outd1)\n",
    "        #print(outd1.size(),c3_in.size())\n",
    "        #outd1 = self.unpool2(outd1,c3_in)\n",
    "        \n",
    "        outd2 = F.relu(self.deconv2(outd1))\n",
    "        outd2 = self.Norm_6(outd2)\n",
    "        #print(outd2.size(),c2_in.size())\n",
    "        #outd2 = self.unpool2(outd2,c2_in)\n",
    "        \n",
    "        outd3 = F.relu(self.deconv3(outd2))\n",
    "        outd3 = self.Norm_7(outd3)\n",
    "        #print(outd3.size(),c1_in.size())\n",
    "        #outd3 = self.unpool2(outd3,c1_in)\n",
    "        \n",
    "        outd4 = F.relu(self.deconv4(outd3))\n",
    "        outd4 = self.Norm_8(outd4)\n",
    "        \n",
    "        return outd4"
   ]
  },
  {
   "cell_type": "code",
   "execution_count": 18,
   "metadata": {
    "scrolled": false
   },
   "outputs": [
    {
     "ename": "IndexError",
     "evalue": "list index out of range",
     "output_type": "error",
     "traceback": [
      "\u001b[0;31m---------------------------------------------------------------------------\u001b[0m",
      "\u001b[0;31mIndexError\u001b[0m                                Traceback (most recent call last)",
      "\u001b[0;32m<ipython-input-18-a90361e46c0b>\u001b[0m in \u001b[0;36m<module>\u001b[0;34m()\u001b[0m\n\u001b[1;32m     18\u001b[0m     \u001b[0mplt\u001b[0m\u001b[0;34m.\u001b[0m\u001b[0mshow\u001b[0m\u001b[0;34m(\u001b[0m\u001b[0;34m)\u001b[0m\u001b[0;34m\u001b[0m\u001b[0m\n\u001b[1;32m     19\u001b[0m \u001b[0mmodel\u001b[0m \u001b[0;34m=\u001b[0m \u001b[0mMyNet\u001b[0m\u001b[0;34m(\u001b[0m\u001b[0;34m)\u001b[0m\u001b[0;34m\u001b[0m\u001b[0m\n\u001b[0;32m---> 20\u001b[0;31m \u001b[0mget_sample\u001b[0m\u001b[0;34m(\u001b[0m\u001b[0mmodel\u001b[0m\u001b[0;34m)\u001b[0m\u001b[0;34m\u001b[0m\u001b[0m\n\u001b[0m",
      "\u001b[0;32m<ipython-input-18-a90361e46c0b>\u001b[0m in \u001b[0;36mget_sample\u001b[0;34m(model)\u001b[0m\n\u001b[1;32m      2\u001b[0m \u001b[0;34m\u001b[0m\u001b[0m\n\u001b[1;32m      3\u001b[0m \u001b[0;32mdef\u001b[0m \u001b[0mget_sample\u001b[0m\u001b[0;34m(\u001b[0m\u001b[0mmodel\u001b[0m\u001b[0;34m)\u001b[0m\u001b[0;34m:\u001b[0m\u001b[0;34m\u001b[0m\u001b[0m\n\u001b[0;32m----> 4\u001b[0;31m     \u001b[0minp\u001b[0m\u001b[0;34m,\u001b[0m\u001b[0mout\u001b[0m \u001b[0;34m=\u001b[0m \u001b[0mtrainData\u001b[0m\u001b[0;34m[\u001b[0m\u001b[0mrandom\u001b[0m\u001b[0;34m.\u001b[0m\u001b[0mrandint\u001b[0m\u001b[0;34m(\u001b[0m\u001b[0;36m0\u001b[0m\u001b[0;34m,\u001b[0m\u001b[0;36m3672\u001b[0m\u001b[0;34m)\u001b[0m\u001b[0;34m]\u001b[0m \u001b[0;31m# change it to Valdata if necessary, dont forget to change value inside rand()\u001b[0m\u001b[0;34m\u001b[0m\u001b[0m\n\u001b[0m\u001b[1;32m      5\u001b[0m     \u001b[0minp\u001b[0m \u001b[0;34m=\u001b[0m \u001b[0minp\u001b[0m\u001b[0;34m.\u001b[0m\u001b[0mview\u001b[0m\u001b[0;34m(\u001b[0m\u001b[0;34m-\u001b[0m\u001b[0;36m1\u001b[0m\u001b[0;34m,\u001b[0m\u001b[0;36m3\u001b[0m\u001b[0;34m,\u001b[0m\u001b[0;36m400\u001b[0m\u001b[0;34m,\u001b[0m\u001b[0;36m400\u001b[0m\u001b[0;34m)\u001b[0m\u001b[0;34m\u001b[0m\u001b[0m\n\u001b[1;32m      6\u001b[0m     \u001b[0msample_ip\u001b[0m \u001b[0;34m=\u001b[0m \u001b[0mtorch\u001b[0m\u001b[0;34m.\u001b[0m\u001b[0mautograd\u001b[0m\u001b[0;34m.\u001b[0m\u001b[0mVariable\u001b[0m\u001b[0;34m(\u001b[0m\u001b[0minp\u001b[0m\u001b[0;34m)\u001b[0m\u001b[0;34m\u001b[0m\u001b[0m\n",
      "\u001b[0;32m<ipython-input-16-e04982cec36a>\u001b[0m in \u001b[0;36m__getitem__\u001b[0;34m(self, index)\u001b[0m\n\u001b[1;32m     37\u001b[0m \u001b[0;34m\u001b[0m\u001b[0m\n\u001b[1;32m     38\u001b[0m     \u001b[0;32mdef\u001b[0m \u001b[0m__getitem__\u001b[0m\u001b[0;34m(\u001b[0m\u001b[0mself\u001b[0m\u001b[0;34m,\u001b[0m \u001b[0mindex\u001b[0m\u001b[0;34m)\u001b[0m\u001b[0;34m:\u001b[0m\u001b[0;34m\u001b[0m\u001b[0m\n\u001b[0;32m---> 39\u001b[0;31m         \u001b[0mcur_in_path\u001b[0m \u001b[0;34m=\u001b[0m \u001b[0mself\u001b[0m\u001b[0;34m.\u001b[0m\u001b[0minp_img_paths\u001b[0m\u001b[0;34m[\u001b[0m\u001b[0mindex\u001b[0m\u001b[0;34m]\u001b[0m\u001b[0;34m\u001b[0m\u001b[0m\n\u001b[0m\u001b[1;32m     40\u001b[0m         \u001b[0mcur_out_path\u001b[0m \u001b[0;34m=\u001b[0m \u001b[0mself\u001b[0m\u001b[0;34m.\u001b[0m\u001b[0mout_img_paths\u001b[0m\u001b[0;34m[\u001b[0m\u001b[0mindex\u001b[0m\u001b[0;34m]\u001b[0m\u001b[0;34m\u001b[0m\u001b[0m\n\u001b[1;32m     41\u001b[0m         \u001b[0min_image\u001b[0m \u001b[0;34m=\u001b[0m \u001b[0mself\u001b[0m\u001b[0;34m.\u001b[0m\u001b[0mgetImage\u001b[0m\u001b[0;34m(\u001b[0m\u001b[0mcur_in_path\u001b[0m\u001b[0;34m)\u001b[0m\u001b[0;34m\u001b[0m\u001b[0m\n",
      "\u001b[0;31mIndexError\u001b[0m: list index out of range"
     ]
    }
   ],
   "source": [
    "import random\n",
    "\n",
    "def get_sample(model):\n",
    "    inp,out = trainData[random.randint(0,3672)] # change it to Valdata if necessary, dont forget to change value inside rand()\n",
    "    inp = inp.view(-1,3,400,400)\n",
    "    sample_ip = torch.autograd.Variable(inp)\n",
    "    sample_out = model(sample_ip)\n",
    "    print(sample_out.size())\n",
    "    sample_out = sample_out.view(-1,sample_out.size(2),sample_out.size(3))\n",
    "    sample_out = cvt2pil(sample_out.data.cpu())\n",
    "    sample_inp = cvt2pil(inp.view(-1,400,400))\n",
    "    print(out.shape)\n",
    "    plt.imshow(sample_inp)\n",
    "    plt.show()\n",
    "    plt.imshow(sample_out)\n",
    "    plt.show()\n",
    "    plt.imshow(cvt2pil(out.view(-1,400,400)) )\n",
    "    plt.show()    \n",
    "model = MyNet()\n",
    "get_sample(model)"
   ]
  },
  {
   "cell_type": "code",
   "execution_count": 4,
   "metadata": {
    "collapsed": true
   },
   "outputs": [],
   "source": [
    "imgTransform = transforms.Compose([transforms.ToTensor()])\n",
    "\n",
    "trainData = Spacenet_Dataset(\"/home/shriragk/project/AOI_3_Paris_Train/annotations/trainval.txt\",transform=imgTransform)\n",
    "valData = Spacenet_Dataset(\"/home/shriragk/project/AOI_3_Paris_Train/annotations/test.txt\",transform=imgTransform)\n",
    "\n",
    "trainLoader = torch.utils.data.DataLoader(trainData, batch_size = 1, \n",
    "                                          shuffle = True, num_workers = 16)\n",
    "valLoader = torch.utils.data.DataLoader(valData, batch_size = 1, \n",
    "                                        shuffle = False, num_workers = 16)"
   ]
  },
  {
   "cell_type": "code",
   "execution_count": 5,
   "metadata": {},
   "outputs": [
    {
     "name": "stdout",
     "output_type": "stream",
     "text": [
      "using GPU!\n"
     ]
    },
    {
     "ename": "RuntimeError",
     "evalue": "cuda runtime error (2) : out of memory at /opt/conda/conda-bld/pytorch_1503966894950/work/torch/lib/THC/generic/THCStorage.cu:66",
     "output_type": "error",
     "traceback": [
      "\u001b[0;31m---------------------------------------------------------------------------\u001b[0m",
      "\u001b[0;31mRuntimeError\u001b[0m                              Traceback (most recent call last)",
      "\u001b[0;32m<ipython-input-5-d19d155d76ea>\u001b[0m in \u001b[0;36m<module>\u001b[0;34m()\u001b[0m\n\u001b[1;32m     75\u001b[0m \u001b[0;34m\u001b[0m\u001b[0m\n\u001b[1;32m     76\u001b[0m \u001b[0;31m# Train the previously defined model.\u001b[0m\u001b[0;34m\u001b[0m\u001b[0;34m\u001b[0m\u001b[0m\n\u001b[0;32m---> 77\u001b[0;31m \u001b[0mtrained_model\u001b[0m \u001b[0;34m=\u001b[0m \u001b[0mtrain_rnn_model\u001b[0m\u001b[0;34m(\u001b[0m\u001b[0mnn\u001b[0m\u001b[0;34m.\u001b[0m\u001b[0mDataParallel\u001b[0m\u001b[0;34m(\u001b[0m\u001b[0mmodel\u001b[0m\u001b[0;34m)\u001b[0m\u001b[0;34m,\u001b[0m \u001b[0mcriterion\u001b[0m\u001b[0;34m,\u001b[0m \u001b[0moptimizer\u001b[0m\u001b[0;34m,\u001b[0m \u001b[0mtrainLoader\u001b[0m\u001b[0;34m,\u001b[0m \u001b[0mvalLoader\u001b[0m\u001b[0;34m,\u001b[0m \u001b[0mn_epochs\u001b[0m \u001b[0;34m=\u001b[0m \u001b[0;36m1\u001b[0m\u001b[0;34m,\u001b[0m \u001b[0muse_gpu\u001b[0m \u001b[0;34m=\u001b[0m \u001b[0mTrue\u001b[0m\u001b[0;34m)\u001b[0m\u001b[0;34m\u001b[0m\u001b[0m\n\u001b[0m",
      "\u001b[0;32m<ipython-input-5-d19d155d76ea>\u001b[0m in \u001b[0;36mtrain_rnn_model\u001b[0;34m(model, criterion, optimizer, trainData, valData, n_epochs, use_gpu)\u001b[0m\n\u001b[1;32m      8\u001b[0m     \u001b[0;32mif\u001b[0m \u001b[0muse_gpu\u001b[0m\u001b[0;34m:\u001b[0m\u001b[0;34m\u001b[0m\u001b[0m\n\u001b[1;32m      9\u001b[0m         \u001b[0;32mprint\u001b[0m\u001b[0;34m(\u001b[0m\u001b[0;34m'using GPU!'\u001b[0m\u001b[0;34m)\u001b[0m\u001b[0;34m\u001b[0m\u001b[0m\n\u001b[0;32m---> 10\u001b[0;31m         \u001b[0mmodel\u001b[0m \u001b[0;34m=\u001b[0m \u001b[0mmodel\u001b[0m\u001b[0;34m.\u001b[0m\u001b[0mcuda\u001b[0m\u001b[0;34m(\u001b[0m\u001b[0;34m)\u001b[0m\u001b[0;34m\u001b[0m\u001b[0m\n\u001b[0m\u001b[1;32m     11\u001b[0m         \u001b[0mcriterion\u001b[0m \u001b[0;34m=\u001b[0m \u001b[0mcriterion\u001b[0m\u001b[0;34m.\u001b[0m\u001b[0mcuda\u001b[0m\u001b[0;34m(\u001b[0m\u001b[0;34m)\u001b[0m\u001b[0;34m\u001b[0m\u001b[0m\n\u001b[1;32m     12\u001b[0m \u001b[0;34m\u001b[0m\u001b[0m\n",
      "\u001b[0;32m/home/shriragk/anaconda2/lib/python2.7/site-packages/torch/nn/modules/module.pyc\u001b[0m in \u001b[0;36mcuda\u001b[0;34m(self, device_id)\u001b[0m\n\u001b[1;32m    145\u001b[0m                 \u001b[0mcopied\u001b[0m \u001b[0mto\u001b[0m \u001b[0mthat\u001b[0m \u001b[0mdevice\u001b[0m\u001b[0;34m\u001b[0m\u001b[0m\n\u001b[1;32m    146\u001b[0m         \"\"\"\n\u001b[0;32m--> 147\u001b[0;31m         \u001b[0;32mreturn\u001b[0m \u001b[0mself\u001b[0m\u001b[0;34m.\u001b[0m\u001b[0m_apply\u001b[0m\u001b[0;34m(\u001b[0m\u001b[0;32mlambda\u001b[0m \u001b[0mt\u001b[0m\u001b[0;34m:\u001b[0m \u001b[0mt\u001b[0m\u001b[0;34m.\u001b[0m\u001b[0mcuda\u001b[0m\u001b[0;34m(\u001b[0m\u001b[0mdevice_id\u001b[0m\u001b[0;34m)\u001b[0m\u001b[0;34m)\u001b[0m\u001b[0;34m\u001b[0m\u001b[0m\n\u001b[0m\u001b[1;32m    148\u001b[0m \u001b[0;34m\u001b[0m\u001b[0m\n\u001b[1;32m    149\u001b[0m     \u001b[0;32mdef\u001b[0m \u001b[0mcpu\u001b[0m\u001b[0;34m(\u001b[0m\u001b[0mself\u001b[0m\u001b[0;34m)\u001b[0m\u001b[0;34m:\u001b[0m\u001b[0;34m\u001b[0m\u001b[0m\n",
      "\u001b[0;32m/home/shriragk/anaconda2/lib/python2.7/site-packages/torch/nn/modules/module.pyc\u001b[0m in \u001b[0;36m_apply\u001b[0;34m(self, fn)\u001b[0m\n\u001b[1;32m    116\u001b[0m     \u001b[0;32mdef\u001b[0m \u001b[0m_apply\u001b[0m\u001b[0;34m(\u001b[0m\u001b[0mself\u001b[0m\u001b[0;34m,\u001b[0m \u001b[0mfn\u001b[0m\u001b[0;34m)\u001b[0m\u001b[0;34m:\u001b[0m\u001b[0;34m\u001b[0m\u001b[0m\n\u001b[1;32m    117\u001b[0m         \u001b[0;32mfor\u001b[0m \u001b[0mmodule\u001b[0m \u001b[0;32min\u001b[0m \u001b[0mself\u001b[0m\u001b[0;34m.\u001b[0m\u001b[0mchildren\u001b[0m\u001b[0;34m(\u001b[0m\u001b[0;34m)\u001b[0m\u001b[0;34m:\u001b[0m\u001b[0;34m\u001b[0m\u001b[0m\n\u001b[0;32m--> 118\u001b[0;31m             \u001b[0mmodule\u001b[0m\u001b[0;34m.\u001b[0m\u001b[0m_apply\u001b[0m\u001b[0;34m(\u001b[0m\u001b[0mfn\u001b[0m\u001b[0;34m)\u001b[0m\u001b[0;34m\u001b[0m\u001b[0m\n\u001b[0m\u001b[1;32m    119\u001b[0m \u001b[0;34m\u001b[0m\u001b[0m\n\u001b[1;32m    120\u001b[0m         \u001b[0;32mfor\u001b[0m \u001b[0mparam\u001b[0m \u001b[0;32min\u001b[0m \u001b[0mself\u001b[0m\u001b[0;34m.\u001b[0m\u001b[0m_parameters\u001b[0m\u001b[0;34m.\u001b[0m\u001b[0mvalues\u001b[0m\u001b[0;34m(\u001b[0m\u001b[0;34m)\u001b[0m\u001b[0;34m:\u001b[0m\u001b[0;34m\u001b[0m\u001b[0m\n",
      "\u001b[0;32m/home/shriragk/anaconda2/lib/python2.7/site-packages/torch/nn/modules/module.pyc\u001b[0m in \u001b[0;36m_apply\u001b[0;34m(self, fn)\u001b[0m\n\u001b[1;32m    116\u001b[0m     \u001b[0;32mdef\u001b[0m \u001b[0m_apply\u001b[0m\u001b[0;34m(\u001b[0m\u001b[0mself\u001b[0m\u001b[0;34m,\u001b[0m \u001b[0mfn\u001b[0m\u001b[0;34m)\u001b[0m\u001b[0;34m:\u001b[0m\u001b[0;34m\u001b[0m\u001b[0m\n\u001b[1;32m    117\u001b[0m         \u001b[0;32mfor\u001b[0m \u001b[0mmodule\u001b[0m \u001b[0;32min\u001b[0m \u001b[0mself\u001b[0m\u001b[0;34m.\u001b[0m\u001b[0mchildren\u001b[0m\u001b[0;34m(\u001b[0m\u001b[0;34m)\u001b[0m\u001b[0;34m:\u001b[0m\u001b[0;34m\u001b[0m\u001b[0m\n\u001b[0;32m--> 118\u001b[0;31m             \u001b[0mmodule\u001b[0m\u001b[0;34m.\u001b[0m\u001b[0m_apply\u001b[0m\u001b[0;34m(\u001b[0m\u001b[0mfn\u001b[0m\u001b[0;34m)\u001b[0m\u001b[0;34m\u001b[0m\u001b[0m\n\u001b[0m\u001b[1;32m    119\u001b[0m \u001b[0;34m\u001b[0m\u001b[0m\n\u001b[1;32m    120\u001b[0m         \u001b[0;32mfor\u001b[0m \u001b[0mparam\u001b[0m \u001b[0;32min\u001b[0m \u001b[0mself\u001b[0m\u001b[0;34m.\u001b[0m\u001b[0m_parameters\u001b[0m\u001b[0;34m.\u001b[0m\u001b[0mvalues\u001b[0m\u001b[0;34m(\u001b[0m\u001b[0;34m)\u001b[0m\u001b[0;34m:\u001b[0m\u001b[0;34m\u001b[0m\u001b[0m\n",
      "\u001b[0;32m/home/shriragk/anaconda2/lib/python2.7/site-packages/torch/nn/modules/module.pyc\u001b[0m in \u001b[0;36m_apply\u001b[0;34m(self, fn)\u001b[0m\n\u001b[1;32m    122\u001b[0m                 \u001b[0;31m# Variables stored in modules are graph leaves, and we don't\u001b[0m\u001b[0;34m\u001b[0m\u001b[0;34m\u001b[0m\u001b[0m\n\u001b[1;32m    123\u001b[0m                 \u001b[0;31m# want to create copy nodes, so we have to unpack the data.\u001b[0m\u001b[0;34m\u001b[0m\u001b[0;34m\u001b[0m\u001b[0m\n\u001b[0;32m--> 124\u001b[0;31m                 \u001b[0mparam\u001b[0m\u001b[0;34m.\u001b[0m\u001b[0mdata\u001b[0m \u001b[0;34m=\u001b[0m \u001b[0mfn\u001b[0m\u001b[0;34m(\u001b[0m\u001b[0mparam\u001b[0m\u001b[0;34m.\u001b[0m\u001b[0mdata\u001b[0m\u001b[0;34m)\u001b[0m\u001b[0;34m\u001b[0m\u001b[0m\n\u001b[0m\u001b[1;32m    125\u001b[0m                 \u001b[0;32mif\u001b[0m \u001b[0mparam\u001b[0m\u001b[0;34m.\u001b[0m\u001b[0m_grad\u001b[0m \u001b[0;32mis\u001b[0m \u001b[0;32mnot\u001b[0m \u001b[0mNone\u001b[0m\u001b[0;34m:\u001b[0m\u001b[0;34m\u001b[0m\u001b[0m\n\u001b[1;32m    126\u001b[0m                     \u001b[0mparam\u001b[0m\u001b[0;34m.\u001b[0m\u001b[0m_grad\u001b[0m\u001b[0;34m.\u001b[0m\u001b[0mdata\u001b[0m \u001b[0;34m=\u001b[0m \u001b[0mfn\u001b[0m\u001b[0;34m(\u001b[0m\u001b[0mparam\u001b[0m\u001b[0;34m.\u001b[0m\u001b[0m_grad\u001b[0m\u001b[0;34m.\u001b[0m\u001b[0mdata\u001b[0m\u001b[0;34m)\u001b[0m\u001b[0;34m\u001b[0m\u001b[0m\n",
      "\u001b[0;32m/home/shriragk/anaconda2/lib/python2.7/site-packages/torch/nn/modules/module.pyc\u001b[0m in \u001b[0;36m<lambda>\u001b[0;34m(t)\u001b[0m\n\u001b[1;32m    145\u001b[0m                 \u001b[0mcopied\u001b[0m \u001b[0mto\u001b[0m \u001b[0mthat\u001b[0m \u001b[0mdevice\u001b[0m\u001b[0;34m\u001b[0m\u001b[0m\n\u001b[1;32m    146\u001b[0m         \"\"\"\n\u001b[0;32m--> 147\u001b[0;31m         \u001b[0;32mreturn\u001b[0m \u001b[0mself\u001b[0m\u001b[0;34m.\u001b[0m\u001b[0m_apply\u001b[0m\u001b[0;34m(\u001b[0m\u001b[0;32mlambda\u001b[0m \u001b[0mt\u001b[0m\u001b[0;34m:\u001b[0m \u001b[0mt\u001b[0m\u001b[0;34m.\u001b[0m\u001b[0mcuda\u001b[0m\u001b[0;34m(\u001b[0m\u001b[0mdevice_id\u001b[0m\u001b[0;34m)\u001b[0m\u001b[0;34m)\u001b[0m\u001b[0;34m\u001b[0m\u001b[0m\n\u001b[0m\u001b[1;32m    148\u001b[0m \u001b[0;34m\u001b[0m\u001b[0m\n\u001b[1;32m    149\u001b[0m     \u001b[0;32mdef\u001b[0m \u001b[0mcpu\u001b[0m\u001b[0;34m(\u001b[0m\u001b[0mself\u001b[0m\u001b[0;34m)\u001b[0m\u001b[0;34m:\u001b[0m\u001b[0;34m\u001b[0m\u001b[0m\n",
      "\u001b[0;32m/home/shriragk/anaconda2/lib/python2.7/site-packages/torch/_utils.pyc\u001b[0m in \u001b[0;36m_cuda\u001b[0;34m(self, device, async)\u001b[0m\n\u001b[1;32m     64\u001b[0m         \u001b[0;32melse\u001b[0m\u001b[0;34m:\u001b[0m\u001b[0;34m\u001b[0m\u001b[0m\n\u001b[1;32m     65\u001b[0m             \u001b[0mnew_type\u001b[0m \u001b[0;34m=\u001b[0m \u001b[0mgetattr\u001b[0m\u001b[0;34m(\u001b[0m\u001b[0mtorch\u001b[0m\u001b[0;34m.\u001b[0m\u001b[0mcuda\u001b[0m\u001b[0;34m,\u001b[0m \u001b[0mself\u001b[0m\u001b[0;34m.\u001b[0m\u001b[0m__class__\u001b[0m\u001b[0;34m.\u001b[0m\u001b[0m__name__\u001b[0m\u001b[0;34m)\u001b[0m\u001b[0;34m\u001b[0m\u001b[0m\n\u001b[0;32m---> 66\u001b[0;31m             \u001b[0;32mreturn\u001b[0m \u001b[0mnew_type\u001b[0m\u001b[0;34m(\u001b[0m\u001b[0mself\u001b[0m\u001b[0;34m.\u001b[0m\u001b[0msize\u001b[0m\u001b[0;34m(\u001b[0m\u001b[0;34m)\u001b[0m\u001b[0;34m)\u001b[0m\u001b[0;34m.\u001b[0m\u001b[0mcopy_\u001b[0m\u001b[0;34m(\u001b[0m\u001b[0mself\u001b[0m\u001b[0;34m,\u001b[0m \u001b[0masync\u001b[0m\u001b[0;34m)\u001b[0m\u001b[0;34m\u001b[0m\u001b[0m\n\u001b[0m\u001b[1;32m     67\u001b[0m \u001b[0;34m\u001b[0m\u001b[0m\n\u001b[1;32m     68\u001b[0m \u001b[0;34m\u001b[0m\u001b[0m\n",
      "\u001b[0;32m/home/shriragk/anaconda2/lib/python2.7/site-packages/torch/cuda/__init__.pyc\u001b[0m in \u001b[0;36m_lazy_new\u001b[0;34m(cls, *args, **kwargs)\u001b[0m\n\u001b[1;32m    267\u001b[0m     \u001b[0;31m# We need this method only for lazy init, so we can remove it\u001b[0m\u001b[0;34m\u001b[0m\u001b[0;34m\u001b[0m\u001b[0m\n\u001b[1;32m    268\u001b[0m     \u001b[0;32mdel\u001b[0m \u001b[0m_CudaBase\u001b[0m\u001b[0;34m.\u001b[0m\u001b[0m__new__\u001b[0m\u001b[0;34m\u001b[0m\u001b[0m\n\u001b[0;32m--> 269\u001b[0;31m     \u001b[0;32mreturn\u001b[0m \u001b[0msuper\u001b[0m\u001b[0;34m(\u001b[0m\u001b[0m_CudaBase\u001b[0m\u001b[0;34m,\u001b[0m \u001b[0mcls\u001b[0m\u001b[0;34m)\u001b[0m\u001b[0;34m.\u001b[0m\u001b[0m__new__\u001b[0m\u001b[0;34m(\u001b[0m\u001b[0mcls\u001b[0m\u001b[0;34m,\u001b[0m \u001b[0;34m*\u001b[0m\u001b[0margs\u001b[0m\u001b[0;34m,\u001b[0m \u001b[0;34m**\u001b[0m\u001b[0mkwargs\u001b[0m\u001b[0;34m)\u001b[0m\u001b[0;34m\u001b[0m\u001b[0m\n\u001b[0m\u001b[1;32m    270\u001b[0m \u001b[0;34m\u001b[0m\u001b[0m\n\u001b[1;32m    271\u001b[0m \u001b[0;34m\u001b[0m\u001b[0m\n",
      "\u001b[0;31mRuntimeError\u001b[0m: cuda runtime error (2) : out of memory at /opt/conda/conda-bld/pytorch_1503966894950/work/torch/lib/THC/generic/THCStorage.cu:66"
     ]
    }
   ],
   "source": [
    "from tqdm import tqdm as tqdm\n",
    "\n",
    "train_loss=[]\n",
    "test_loss=[]\n",
    "\n",
    "def train_rnn_model(model, criterion, optimizer, trainData, valData, n_epochs = 10, use_gpu = False):      \n",
    "    \n",
    "    if use_gpu:\n",
    "        print('using GPU!')\n",
    "        model = model.cuda()\n",
    "        criterion = criterion.cuda()\n",
    "        \n",
    "    # Training loop.\n",
    "    for epoch in range(0, n_epochs):\n",
    "        cum_loss = 0.0\n",
    "        accuracy = 0\n",
    "        \n",
    "        # Make a pass over the training data.\n",
    "        t = tqdm(trainData, desc = 'Training epoch %d' % epoch)\n",
    "        model.train()  # This is important to call before training!\n",
    "        for (i,(ip_image, out_image)) in enumerate(t): \n",
    "            #print(ip_image.size())\n",
    "            #print(out_image.size())\n",
    "            input_image = torch.autograd.Variable(ip_image)\n",
    "            target = torch.autograd.Variable(out_image)\n",
    "\n",
    "            if use_gpu:\n",
    "                input_image = input_image.cuda()\n",
    "                target = target.cuda()\n",
    "            #print(target.size())\n",
    "            y_ = model(input_image)\n",
    "            #print(y_.size())\n",
    "            optimizer.zero_grad()\n",
    "\n",
    "            loss = criterion(y_, target.squeeze())\n",
    "            cum_loss += loss.data[0]\n",
    "\n",
    "            loss.backward()\n",
    "                    # Weight and bias updates.\n",
    "            optimizer.step()                \n",
    "\n",
    "            # logging information.\n",
    "            t.set_postfix(loss = cum_loss / (1 + i)) \n",
    "\n",
    "        train_loss.append(cum_loss/(i+1))\n",
    "\n",
    "\n",
    "        # Make a pass over the validation data.\n",
    "        cum_loss = 0.0\n",
    "        accuracy = 0\n",
    "        \n",
    "        t = tqdm(valData, desc = 'Validation epoch %d' % epoch)\n",
    "        model.eval()  # This is important to call before evaluating!\n",
    "        for (i,(ip_image,out_image)) in enumerate(t): \n",
    "        \n",
    "            input_image = torch.autograd.Variable(ip_image)\n",
    "            target = torch.autograd.Variable(out_image)\n",
    "\n",
    "            if use_gpu:\n",
    "                input_image = input_image.cuda()\n",
    "                target = target.cuda()\n",
    "                \n",
    "            y_ = model(input_image)\n",
    "\n",
    "            loss = criterion(y_, target)\n",
    "            cum_loss += loss.data[0]\n",
    "            \n",
    "        test_loss.append(cum_loss/(i+1))\n",
    "    return model\n",
    "\n",
    "model = MyNet()\n",
    "criterion = nn.MSELoss()\n",
    "optimizer = torch.optim.Adam(model.parameters(), lr = 0.05)\n",
    "\n",
    "\n",
    "# Train the previously defined model.\n",
    "trained_model = train_rnn_model(nn.DataParallel(model), criterion, optimizer, trainLoader, valLoader, n_epochs = 1, use_gpu = True)\n"
   ]
  },
  {
   "cell_type": "code",
   "execution_count": 10,
   "metadata": {},
   "outputs": [
    {
     "name": "stdout",
     "output_type": "stream",
     "text": [
      "torch.Size([1, 1, 100, 100])\n"
     ]
    },
    {
     "data": {
      "image/png": "[encoded data removed]",
      "text/plain": [
       "<matplotlib.figure.Figure at 0x7f19dd528e90>"
      ]
     },
     "metadata": {},
     "output_type": "display_data"
    },
    {
     "data": {
      "image/png": "[encoded data removed]",
      "text/plain": [
       "<matplotlib.figure.Figure at 0x7f19dc973d10>"
      ]
     },
     "metadata": {},
     "output_type": "display_data"
    },
    {
     "data": {
      "image/png": "[encoded data removed]",
      "text/plain": [
       "<matplotlib.figure.Figure at 0x7f19dd878950>"
      ]
     },
     "metadata": {},
     "output_type": "display_data"
    }
   ],
   "source": [
    "get_sample(trained_model)"
   ]
  },
  {
   "cell_type": "code",
   "execution_count": null,
   "metadata": {
    "collapsed": true
   },
   "outputs": [],
   "source": []
  }
 ],
 "metadata": {
  "kernelspec": {
   "display_name": "Python 2",
   "language": "python",
   "name": "python2"
  },
  "language_info": {
   "codemirror_mode": {
    "name": "ipython",
    "version": 2
   },
   "file_extension": ".py",
   "mimetype": "text/x-python",
   "name": "python",
   "nbconvert_exporter": "python",
   "pygments_lexer": "ipython2",
   "version": "2.7.14"
  }
 },
 "nbformat": 4,
 "nbformat_minor": 2
}
