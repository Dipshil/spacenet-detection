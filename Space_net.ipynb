{
 "cells": [
  {
   "cell_type": "code",
   "execution_count": 70,
   "metadata": {
    "collapsed": false
   },
   "outputs": [],
   "source": [
    "import torch, lab_utils, random\n",
    "from torchvision.datasets import CIFAR10 \n",
    "import torchvision.transforms as transforms\n",
    "from torch.autograd import Variable\n",
    "import torch.nn as nn \n",
    "import torch.optim as optim\n",
    "import torchvision.models as models\n",
    "import torchvision.transforms as transforms\n",
    "import matplotlib.pyplot as plt\n",
    "from PIL import Image\n",
    "import json, string\n",
    "import torch.nn.functional as F\n",
    "%matplotlib inline"
   ]
  },
  {
   "cell_type": "code",
   "execution_count": null,
   "metadata": {
    "collapsed": false
   },
   "outputs": [],
   "source": [
    "\"\"\"Information about images\"\"\"\n",
    "def get_num_pixels(filepath):\n",
    "    width, height = Image.open(open(filepath)).size\n",
    "    return width, height\n",
    "print get_num_pixels(\"/Users/rajveernehra/Desktop/Machine_Learning!/Computer_Vision_UVa_Fall_2017/Space_net_project/Spacenet/annotations/annotations/RGB-PanSharpen__2.18641139997_49.0494609.jpg\")\n",
    "print get_num_pixels(\"/Users/rajveernehra/Desktop/Machine_Learning!/Computer_Vision_UVa_Fall_2017/Space_net_project/Spacenet/annotations/annotations/RGB-PanSharpen__2.18641139997_49.0494609segcls.png\")"
   ]
  },
  {
   "cell_type": "code",
   "execution_count": 35,
   "metadata": {
    "collapsed": false
   },
   "outputs": [
    {
     "data": {
      "text/plain": [
       "'\\nresnet = models.VGG19(pretrained  = True)\\nmodules = list(resnet.children())[:-1]\\nList = list(resnet.children())\\nresnet2 = nn.Sequential(*modules) \\nList.append(nn.Linear(1000,2))\\nresnet2 = nn.Sequential(*List)'"
      ]
     },
     "execution_count": 35,
     "metadata": {},
     "output_type": "execute_result"
    }
   ],
   "source": [
    "'''\n",
    "resnet = models.VGG19(pretrained  = True)\n",
    "modules = list(resnet.children())[:-1]\n",
    "List = list(resnet.children())\n",
    "resnet2 = nn.Sequential(*modules) \n",
    "List.append(nn.Linear(1000,2))\n",
    "resnet2 = nn.Sequential(*List)'''\n",
    "\n"
   ]
  },
  {
   "cell_type": "code",
   "execution_count": 132,
   "metadata": {
    "collapsed": false
   },
   "outputs": [],
   "source": [
    "model = models.vgg19(pretrained  = True)\n",
    "modules = list(model.children())[:-1]\n",
    "model1 = nn.Sequential(*modules)\n"
   ]
  },
  {
   "cell_type": "code",
   "execution_count": 93,
   "metadata": {
    "collapsed": false
   },
   "outputs": [
    {
     "ename": "IOError",
     "evalue": "[Errno 2] No such file or directory: '/home/dipshil/Spacenet_things/annotations/annotations/RGB-PanSharpen__2.23204139995_49.0196259.jpg'",
     "output_type": "error",
     "traceback": [
      "\u001b[0;31m---------------------------------------------------------------------------\u001b[0m",
      "\u001b[0;31mIOError\u001b[0m                                   Traceback (most recent call last)",
      "\u001b[0;32m<ipython-input-93-f8c34abc9690>\u001b[0m in \u001b[0;36m<module>\u001b[0;34m()\u001b[0m\n\u001b[1;32m     36\u001b[0m \u001b[0mtrainData\u001b[0m \u001b[0;34m=\u001b[0m \u001b[0mSpacenet_Dataset\u001b[0m\u001b[0;34m(\u001b[0m\u001b[0;34m\"/Users/rajveernehra/Desktop/Machine_Learning!/Computer_Vision_UVa_Fall_2017/Space_net_project/Spacenet/annotations/trainval.txt\"\u001b[0m\u001b[0;34m,\u001b[0m\u001b[0mtransform\u001b[0m\u001b[0;34m=\u001b[0m\u001b[0mimgTransform\u001b[0m\u001b[0;34m)\u001b[0m\u001b[0;34m\u001b[0m\u001b[0m\n\u001b[1;32m     37\u001b[0m \u001b[0mvalData\u001b[0m \u001b[0;34m=\u001b[0m \u001b[0mSpacenet_Dataset\u001b[0m\u001b[0;34m(\u001b[0m\u001b[0;34m\"/Users/rajveernehra/Desktop/Machine_Learning!/Computer_Vision_UVa_Fall_2017/Space_net_project/Spacenet/annotations/test.txt\"\u001b[0m\u001b[0;34m,\u001b[0m\u001b[0mtransform\u001b[0m\u001b[0;34m=\u001b[0m\u001b[0mimgTransform\u001b[0m\u001b[0;34m)\u001b[0m\u001b[0;34m\u001b[0m\u001b[0m\n\u001b[0;32m---> 38\u001b[0;31m \u001b[0minp\u001b[0m\u001b[0;34m,\u001b[0m\u001b[0mout\u001b[0m \u001b[0;34m=\u001b[0m \u001b[0mtrainData\u001b[0m\u001b[0;34m[\u001b[0m\u001b[0;36m200\u001b[0m\u001b[0;34m]\u001b[0m\u001b[0;34m\u001b[0m\u001b[0m\n\u001b[0m\u001b[1;32m     39\u001b[0m \u001b[0;34m\u001b[0m\u001b[0m\n\u001b[1;32m     40\u001b[0m \u001b[0;32mdef\u001b[0m \u001b[0mget_sample\u001b[0m\u001b[0;34m(\u001b[0m\u001b[0;34m)\u001b[0m\u001b[0;34m:\u001b[0m\u001b[0;34m\u001b[0m\u001b[0m\n",
      "\u001b[0;32m<ipython-input-93-f8c34abc9690>\u001b[0m in \u001b[0;36m__getitem__\u001b[0;34m(self, index)\u001b[0m\n\u001b[1;32m     23\u001b[0m         \u001b[0mip_path\u001b[0m\u001b[0;34m=\u001b[0m \u001b[0mcur_data\u001b[0m\u001b[0;34m[\u001b[0m\u001b[0;36m0\u001b[0m\u001b[0;34m]\u001b[0m\u001b[0;34m\u001b[0m\u001b[0m\n\u001b[1;32m     24\u001b[0m         \u001b[0mout_path\u001b[0m \u001b[0;34m=\u001b[0m \u001b[0mcur_data\u001b[0m\u001b[0;34m[\u001b[0m\u001b[0;36m1\u001b[0m\u001b[0;34m]\u001b[0m\u001b[0;34m\u001b[0m\u001b[0m\n\u001b[0;32m---> 25\u001b[0;31m         \u001b[0min_image\u001b[0m \u001b[0;34m=\u001b[0m \u001b[0mself\u001b[0m\u001b[0;34m.\u001b[0m\u001b[0mgetImage\u001b[0m\u001b[0;34m(\u001b[0m\u001b[0mip_path\u001b[0m\u001b[0;34m)\u001b[0m\u001b[0;34m\u001b[0m\u001b[0m\n\u001b[0m\u001b[1;32m     26\u001b[0m         \u001b[0mout_image\u001b[0m \u001b[0;34m=\u001b[0m \u001b[0mself\u001b[0m\u001b[0;34m.\u001b[0m\u001b[0mgetImage\u001b[0m\u001b[0;34m(\u001b[0m\u001b[0mout_path\u001b[0m\u001b[0;34m)\u001b[0m\u001b[0;34m\u001b[0m\u001b[0m\n\u001b[1;32m     27\u001b[0m \u001b[0;34m\u001b[0m\u001b[0m\n",
      "\u001b[0;32m<ipython-input-93-f8c34abc9690>\u001b[0m in \u001b[0;36mgetImage\u001b[0;34m(self, path)\u001b[0m\n\u001b[1;32m     15\u001b[0m \u001b[0;34m\u001b[0m\u001b[0m\n\u001b[1;32m     16\u001b[0m     \u001b[0;32mdef\u001b[0m \u001b[0mgetImage\u001b[0m\u001b[0;34m(\u001b[0m\u001b[0mself\u001b[0m\u001b[0;34m,\u001b[0m\u001b[0mpath\u001b[0m\u001b[0;34m)\u001b[0m\u001b[0;34m:\u001b[0m\u001b[0;34m\u001b[0m\u001b[0m\n\u001b[0;32m---> 17\u001b[0;31m         \u001b[0mpil_image\u001b[0m \u001b[0;34m=\u001b[0m \u001b[0mImage\u001b[0m\u001b[0;34m.\u001b[0m\u001b[0mopen\u001b[0m\u001b[0;34m(\u001b[0m\u001b[0mpath\u001b[0m\u001b[0;34m)\u001b[0m\u001b[0;34m\u001b[0m\u001b[0m\n\u001b[0m\u001b[1;32m     18\u001b[0m         \u001b[0mpil_image\u001b[0m \u001b[0;34m=\u001b[0m \u001b[0mpil_image\u001b[0m\u001b[0;34m.\u001b[0m\u001b[0mconvert\u001b[0m\u001b[0;34m(\u001b[0m\u001b[0;34m'RGB'\u001b[0m\u001b[0;34m)\u001b[0m\u001b[0;34m\u001b[0m\u001b[0m\n\u001b[1;32m     19\u001b[0m         \u001b[0;32mreturn\u001b[0m \u001b[0mpil_image\u001b[0m\u001b[0;34m\u001b[0m\u001b[0m\n",
      "\u001b[0;32m/Users/rajveernehra/anaconda/envs/py27/lib/python2.7/site-packages/PIL/Image.pyc\u001b[0m in \u001b[0;36mopen\u001b[0;34m(fp, mode)\u001b[0m\n\u001b[1;32m   2408\u001b[0m \u001b[0;34m\u001b[0m\u001b[0m\n\u001b[1;32m   2409\u001b[0m     \u001b[0;32mif\u001b[0m \u001b[0mfilename\u001b[0m\u001b[0;34m:\u001b[0m\u001b[0;34m\u001b[0m\u001b[0m\n\u001b[0;32m-> 2410\u001b[0;31m         \u001b[0mfp\u001b[0m \u001b[0;34m=\u001b[0m \u001b[0mbuiltins\u001b[0m\u001b[0;34m.\u001b[0m\u001b[0mopen\u001b[0m\u001b[0;34m(\u001b[0m\u001b[0mfilename\u001b[0m\u001b[0;34m,\u001b[0m \u001b[0;34m\"rb\"\u001b[0m\u001b[0;34m)\u001b[0m\u001b[0;34m\u001b[0m\u001b[0m\n\u001b[0m\u001b[1;32m   2411\u001b[0m         \u001b[0mexclusive_fp\u001b[0m \u001b[0;34m=\u001b[0m \u001b[0mTrue\u001b[0m\u001b[0;34m\u001b[0m\u001b[0m\n\u001b[1;32m   2412\u001b[0m \u001b[0;34m\u001b[0m\u001b[0m\n",
      "\u001b[0;31mIOError\u001b[0m: [Errno 2] No such file or directory: '/home/dipshil/Spacenet_things/annotations/annotations/RGB-PanSharpen__2.23204139995_49.0196259.jpg'"
     ]
    }
   ],
   "source": [
    "import torch.utils.data as data\n",
    "class Spacenet_Dataset(data.Dataset):\n",
    "    def __init__(self, annotationsFile,train = True, transform=None, target_transform = None):\n",
    "        lines = open(annotationsFile,'r').readlines()\n",
    "        self.transform=transform\n",
    "        self.target_transform=target_transform\n",
    "        self.data=[]\n",
    "        for line in lines:\n",
    "            ip,out = line.split(' ')\n",
    "            out = out[:-5]+'segobj.png'\n",
    "            item = [ip,out]\n",
    "            self.data.append(item)\n",
    "        inp_img_paths = self.data[:][0]\n",
    "        out_img_paths = self.data[:][1]\n",
    "              \n",
    "    def getImage(self,path):\n",
    "        pil_image = Image.open(path)\n",
    "        pil_image = pil_image.convert('RGB')\n",
    "        return pil_image\n",
    "\n",
    "    def __getitem__(self, index):\n",
    "        cur_data = self.data[index]\n",
    "        ip_path= cur_data[0]\n",
    "        out_path = cur_data[1]\n",
    "        in_image = self.getImage(ip_path)\n",
    "        out_image = self.getImage(out_path)\n",
    "        \n",
    "        if self.transform is not None:\n",
    "            in_image = self.transform(in_image)\n",
    "            out_image = self.transform(out_image)\n",
    "        return in_image, out_image\n",
    "\n",
    "imgTransform = transforms.Compose([transforms.Scale((400, 400)),\n",
    "                                   transforms.ToTensor()])\n",
    "\n",
    "trainData = Spacenet_Dataset(\"/Users/rajveernehra/Desktop/Machine_Learning!/Computer_Vision_UVa_Fall_2017/Space_net_project/Spacenet/annotations/trainval.txt\",transform=imgTransform)\n",
    "valData = Spacenet_Dataset(\"/Users/rajveernehra/Desktop/Machine_Learning!/Computer_Vision_UVa_Fall_2017/Space_net_project/Spacenet/annotations/test.txt\",transform=imgTransform)\n",
    "inp,out = trainData[200]\n",
    "\n",
    "def get_sample():\n",
    "    inp,out = trainData[random.randint(0,3673)] # change it to Valdata if necessary, dont forget to change value inside rand()\n",
    "    inp = inp.view(-1,3,400,400)\n",
    "    model = MyNet().cuda()\n",
    "    sample_ip = torch.autograd.Variable(inp).cuda()\n",
    "    sample_out = model(sample_ip)\n",
    "    sample_out = sample_out.view(-1,400,400)\n",
    "    sample_out = cvt2pil(sample_out.data.cpu())\n",
    "    sample_inp = cvt2pil(inp.view(-1,400,400)) \n",
    "    plt.imshow(sample_inp)\n",
    "    plt.show()\n",
    "    plt.imshow(sample_out)\n",
    "    plt.show()"
   ]
  },
  {
   "cell_type": "code",
   "execution_count": 129,
   "metadata": {
    "collapsed": false
   },
   "outputs": [],
   "source": [
    "class MyNetwork(nn.Module):\n",
    "    def __init__(self):\n",
    "        super(MyNetwork, self).__init__()\n",
    "        #Pretrained VGG without classifier \n",
    "        self.model = models.vgg19(pretrained  = True).features\n",
    "         \n",
    "        \"\"\"We wanted to play with the first and last layers of VGG but realized that it won't work 8 \n",
    "        and 11 band images\"\"\"\n",
    "        \"\"\"self.List = [self.model[i] for i in range(len(self.model))]\n",
    "        self.List[0] = nn.Conv2d(8,64, kernel_size = 3, stride= 1, padding = 1)\n",
    "        self.List[]\n",
    "        self.model = nn.Sequential(*self.List)\"\"\" \n",
    "        \n",
    "        # FCC Convolutional layers network.\n",
    "    \n",
    "        self.conv1 = nn.Conv2d(3, 16, 3)\n",
    "        self.conv2 = nn.Conv2d(16, 32, 3) \n",
    "        self.conv3 = nn.Conv2d(32, 32, 3)\n",
    "        self.conv4 = nn.ConvTranspose2d(32, 32, 3) \n",
    "        self.conv5 = nn.Conv2d(32, 16, 3)\n",
    "        self.conv6 = nn.ConvTranspose2d(16, 16, 3) \n",
    "        self.conv7 = nn.ConvTranspose2d(16,1,3)\n",
    "\n",
    "    def forward(self, x):\n",
    "        \n",
    "        m = nn.Dropout2d(p=0.1)\n",
    "        \n",
    "        Norm_1 = nn.BatchNorm2d(16)\n",
    "        Norm_2 = nn.BatchNorm2d(32)\n",
    "        Norm_3 = nn.BatchNorm2d(32) \n",
    "        Norm_4 = nn.BatchNorm2d(32)\n",
    "        Norm_5 = nn.BatchNorm2d(16)\n",
    "        Norm_6 = nn.BatchNorm2d(16)\n",
    "        \n",
    "        out = self.model(x)\n",
    "        \n",
    "        out = F.relu(self.conv1(x))\n",
    "        out = Norm_1(out)\n",
    "        \n",
    "        out = F.relu(self.conv2(out))\n",
    "        out = Norm_2(out)\n",
    "        out = F.max_pool2d(out, 2)\n",
    "        out = m(out)\n",
    "        \n",
    "        out = F.relu(self.conv3(out))\n",
    "        out = Norm_3(out)\n",
    "        \n",
    "        out = F.relu(self.conv4(out))\n",
    "        out = Norm_4(out)\n",
    "        out = F.max_pool2d(out, 2)\n",
    "        out = m(out)\n",
    "        \n",
    "        out = F.relu(self.conv5(out))\n",
    "        out = Norm_5(out)\n",
    "             \n",
    "        out = F.relu(self.conv6(out))\n",
    "        out = Norm_6(out)\n",
    "        \n",
    "        out = self.conv7(out)\n",
    "        \n",
    "        return out"
   ]
  },
  {
   "cell_type": "code",
   "execution_count": 130,
   "metadata": {
    "collapsed": false
   },
   "outputs": [],
   "source": [
    "x = Variable(torch.Tensor(2,3,650,650).random_())\n",
    "out = MyNetwork()"
   ]
  },
  {
   "cell_type": "code",
   "execution_count": 131,
   "metadata": {
    "collapsed": false
   },
   "outputs": [
    {
     "data": {
      "text/plain": [
       "torch.Size([2, 1, 163, 163])"
      ]
     },
     "execution_count": 131,
     "metadata": {},
     "output_type": "execute_result"
    }
   ],
   "source": [
    "out.forward(x).size()"
   ]
  },
  {
   "cell_type": "code",
   "execution_count": null,
   "metadata": {
    "collapsed": false
   },
   "outputs": [],
   "source": []
  },
  {
   "cell_type": "code",
   "execution_count": null,
   "metadata": {
    "collapsed": false
   },
   "outputs": [],
   "source": []
  },
  {
   "cell_type": "code",
   "execution_count": null,
   "metadata": {
    "collapsed": true
   },
   "outputs": [],
   "source": []
  }
 ],
 "metadata": {
  "anaconda-cloud": {},
  "kernelspec": {
   "display_name": "Python [conda env:py27]",
   "language": "python",
   "name": "conda-env-py27-py"
  },
  "language_info": {
   "codemirror_mode": {
    "name": "ipython",
    "version": 2
   },
   "file_extension": ".py",
   "mimetype": "text/x-python",
   "name": "python",
   "nbconvert_exporter": "python",
   "pygments_lexer": "ipython2",
   "version": "2.7.13"
  }
 },
 "nbformat": 4,
 "nbformat_minor": 1
}
